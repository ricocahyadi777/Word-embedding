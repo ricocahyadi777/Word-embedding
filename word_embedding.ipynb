{
 "cells": [
  {
   "cell_type": "code",
   "execution_count": 1,
   "metadata": {},
   "outputs": [],
   "source": [
    "import numpy as np\n",
    "import pandas as pd\n",
    "import re # For regular expressions\n",
    "\n",
    "from scipy.spatial.distance import cosine as distance_calc\n",
    "import matplotlib.pyplot as plt\n",
    "\n",
    "# BeautifulSoup is used to remove html tags from the text\n",
    "from bs4 import BeautifulSoup \n",
    "\n",
    "# Stopwords can be useful to undersand the semantics of the sentence.\n",
    "# Therefore stopwords are not removed while creating the word2vec model.\n",
    "# But they will be removed  while averaging feature vectors.\n",
    "import nltk\n",
    "from nltk.stem import WordNetLemmatizer\n",
    "import sys\n",
    "from nltk.corpus import wordnet\n",
    "from nltk.corpus import stopwords\n",
    "from gensim.models import word2vec\n",
    "from sklearn.metrics.pairwise import cosine_similarity\n",
    "\n",
    "import warnings\n",
    "warnings.filterwarnings('ignore')"
   ]
  },
  {
   "cell_type": "markdown",
   "metadata": {},
   "source": [
    "**Data parsing**"
   ]
  },
  {
   "cell_type": "code",
   "execution_count": 2,
   "metadata": {},
   "outputs": [],
   "source": [
    "dataset = pd.read_csv(\"200Reviews.csv\") # Read the CSV"
   ]
  },
  {
   "cell_type": "code",
   "execution_count": 3,
   "metadata": {},
   "outputs": [
    {
     "data": {
      "text/html": [
       "<div>\n",
       "<style scoped>\n",
       "    .dataframe tbody tr th:only-of-type {\n",
       "        vertical-align: middle;\n",
       "    }\n",
       "\n",
       "    .dataframe tbody tr th {\n",
       "        vertical-align: top;\n",
       "    }\n",
       "\n",
       "    .dataframe thead th {\n",
       "        text-align: right;\n",
       "    }\n",
       "</style>\n",
       "<table border=\"1\" class=\"dataframe\">\n",
       "  <thead>\n",
       "    <tr style=\"text-align: right;\">\n",
       "      <th></th>\n",
       "      <th>Unnamed: 0</th>\n",
       "      <th>id</th>\n",
       "      <th>sentiment</th>\n",
       "      <th>review</th>\n",
       "    </tr>\n",
       "  </thead>\n",
       "  <tbody>\n",
       "    <tr>\n",
       "      <th>0</th>\n",
       "      <td>0</td>\n",
       "      <td>\"5814_8\"</td>\n",
       "      <td>1</td>\n",
       "      <td>\"With all this stuff going down at the moment ...</td>\n",
       "    </tr>\n",
       "    <tr>\n",
       "      <th>1</th>\n",
       "      <td>1</td>\n",
       "      <td>\"2381_9\"</td>\n",
       "      <td>1</td>\n",
       "      <td>\"\\\"The Classic War of the Worlds\\\" by Timothy ...</td>\n",
       "    </tr>\n",
       "    <tr>\n",
       "      <th>2</th>\n",
       "      <td>2</td>\n",
       "      <td>\"7759_3\"</td>\n",
       "      <td>0</td>\n",
       "      <td>\"The film starts with a manager (Nicholas Bell...</td>\n",
       "    </tr>\n",
       "    <tr>\n",
       "      <th>3</th>\n",
       "      <td>3</td>\n",
       "      <td>\"3630_4\"</td>\n",
       "      <td>0</td>\n",
       "      <td>\"It must be assumed that those who praised thi...</td>\n",
       "    </tr>\n",
       "    <tr>\n",
       "      <th>4</th>\n",
       "      <td>4</td>\n",
       "      <td>\"9495_8\"</td>\n",
       "      <td>1</td>\n",
       "      <td>\"Superbly trashy and wondrously unpretentious ...</td>\n",
       "    </tr>\n",
       "    <tr>\n",
       "      <th>...</th>\n",
       "      <td>...</td>\n",
       "      <td>...</td>\n",
       "      <td>...</td>\n",
       "      <td>...</td>\n",
       "    </tr>\n",
       "    <tr>\n",
       "      <th>195</th>\n",
       "      <td>195</td>\n",
       "      <td>\"8807_9\"</td>\n",
       "      <td>1</td>\n",
       "      <td>\"This is a collection of documentaries that la...</td>\n",
       "    </tr>\n",
       "    <tr>\n",
       "      <th>196</th>\n",
       "      <td>196</td>\n",
       "      <td>\"12148_10\"</td>\n",
       "      <td>1</td>\n",
       "      <td>\"This movie has a lot of comedy, not dark and ...</td>\n",
       "    </tr>\n",
       "    <tr>\n",
       "      <th>197</th>\n",
       "      <td>197</td>\n",
       "      <td>\"10771_2\"</td>\n",
       "      <td>0</td>\n",
       "      <td>\"Have not watched kids films for some years, s...</td>\n",
       "    </tr>\n",
       "    <tr>\n",
       "      <th>198</th>\n",
       "      <td>198</td>\n",
       "      <td>\"6766_3\"</td>\n",
       "      <td>0</td>\n",
       "      <td>\"You probably heard this phrase when it come t...</td>\n",
       "    </tr>\n",
       "    <tr>\n",
       "      <th>199</th>\n",
       "      <td>199</td>\n",
       "      <td>\"2072_10\"</td>\n",
       "      <td>1</td>\n",
       "      <td>\"I was about thirteen when this movie came out...</td>\n",
       "    </tr>\n",
       "  </tbody>\n",
       "</table>\n",
       "<p>200 rows × 4 columns</p>\n",
       "</div>"
      ],
      "text/plain": [
       "     Unnamed: 0          id  sentiment  \\\n",
       "0             0    \"5814_8\"          1   \n",
       "1             1    \"2381_9\"          1   \n",
       "2             2    \"7759_3\"          0   \n",
       "3             3    \"3630_4\"          0   \n",
       "4             4    \"9495_8\"          1   \n",
       "..          ...         ...        ...   \n",
       "195         195    \"8807_9\"          1   \n",
       "196         196  \"12148_10\"          1   \n",
       "197         197   \"10771_2\"          0   \n",
       "198         198    \"6766_3\"          0   \n",
       "199         199   \"2072_10\"          1   \n",
       "\n",
       "                                                review  \n",
       "0    \"With all this stuff going down at the moment ...  \n",
       "1    \"\\\"The Classic War of the Worlds\\\" by Timothy ...  \n",
       "2    \"The film starts with a manager (Nicholas Bell...  \n",
       "3    \"It must be assumed that those who praised thi...  \n",
       "4    \"Superbly trashy and wondrously unpretentious ...  \n",
       "..                                                 ...  \n",
       "195  \"This is a collection of documentaries that la...  \n",
       "196  \"This movie has a lot of comedy, not dark and ...  \n",
       "197  \"Have not watched kids films for some years, s...  \n",
       "198  \"You probably heard this phrase when it come t...  \n",
       "199  \"I was about thirteen when this movie came out...  \n",
       "\n",
       "[200 rows x 4 columns]"
      ]
     },
     "execution_count": 3,
     "metadata": {},
     "output_type": "execute_result"
    }
   ],
   "source": [
    "dataset"
   ]
  },
  {
   "cell_type": "markdown",
   "metadata": {},
   "source": [
    "**Preprocessing**"
   ]
  },
  {
   "cell_type": "code",
   "execution_count": 4,
   "metadata": {},
   "outputs": [],
   "source": [
    "def review_sentences(review, tokenizer, remove_stopwords=False):\n",
    "    raw_sentences = tokenizer.tokenize(review.strip())     # 1. Using nltk tokenizer\n",
    "    sentences = []\n",
    "    for raw_sentence in raw_sentences:                     # 2. Loop for each sentence\n",
    "        if len(raw_sentence)>0:\n",
    "            sentences.append(review_wordlist(raw_sentence,remove_stopwords))                 \n",
    "    return sentences                                       # This returns the list of lists"
   ]
  },
  {
   "cell_type": "code",
   "execution_count": 5,
   "metadata": {},
   "outputs": [],
   "source": [
    "def review_wordlist(review, remove_stopwords=False):\n",
    "    review_text = BeautifulSoup(review).get_text()       # 1. Removing html tags\n",
    "    review_text = re.sub(\"[^a-zA-Z]\",\" \",review_text)    # 2. Removing non-letter.\n",
    "    words = review_text.lower().split()                  # 3. Converting to lower case and splitting\n",
    "    if remove_stopwords:                                 # 4. Optionally remove stopwords\n",
    "        stops = set(stopwords.words(\"english\"))     \n",
    "        words = [w for w in words if not w in stops]\n",
    "    \n",
    "    return(words)"
   ]
  },
  {
   "cell_type": "code",
   "execution_count": 6,
   "metadata": {},
   "outputs": [],
   "source": [
    "reviews = dataset['review'].tolist()  # Make the dataframe into list"
   ]
  },
  {
   "cell_type": "code",
   "execution_count": 7,
   "metadata": {},
   "outputs": [],
   "source": [
    "sentences = []"
   ]
  },
  {
   "cell_type": "code",
   "execution_count": 8,
   "metadata": {},
   "outputs": [],
   "source": [
    "# nltk.download('stopwords')"
   ]
  },
  {
   "cell_type": "code",
   "execution_count": 9,
   "metadata": {},
   "outputs": [],
   "source": [
    "# Make a list of list of words\n",
    "tokenizer = nltk.data.load('tokenizers/punkt/english.pickle')\n",
    "for review in reviews:\n",
    "    sentences += review_sentences(review, tokenizer, remove_stopwords=True)"
   ]
  },
  {
   "cell_type": "code",
   "execution_count": 10,
   "metadata": {},
   "outputs": [],
   "source": [
    "# Get all the unique words\n",
    "word_list = []\n",
    "for sentence in sentences:\n",
    "    for word in sentence:\n",
    "        word_list.append(word)\n",
    "word_list = list(set(word_list))"
   ]
  },
  {
   "cell_type": "code",
   "execution_count": 11,
   "metadata": {},
   "outputs": [
    {
     "data": {
      "text/plain": [
       "7004"
      ]
     },
     "execution_count": 11,
     "metadata": {},
     "output_type": "execute_result"
    }
   ],
   "source": [
    "len(word_list)"
   ]
  },
  {
   "cell_type": "markdown",
   "metadata": {},
   "source": [
    "**Co-occurence matrix**"
   ]
  },
  {
   "cell_type": "code",
   "execution_count": 12,
   "metadata": {},
   "outputs": [],
   "source": [
    "# Set up the matrix\n",
    "coocurrence_matrix = np.zeros((len(word_list), len(word_list)),np.float64)"
   ]
  },
  {
   "cell_type": "code",
   "execution_count": 13,
   "metadata": {},
   "outputs": [],
   "source": [
    "# Fill the matrix\n",
    "def process_sentence(sentence, window):\n",
    "    list_of_indeces = [word_list.index(word) for word in sentence]\n",
    "    for i,index1 in enumerate(list_of_indeces):\n",
    "        start = i-window if i-window >=0 else 0\n",
    "        end = i+window+1 if i+window+1 <=len(list_of_indeces) else len(list_of_indeces)\n",
    "        for index2 in list_of_indeces[start:end]:\n",
    "            if index1 != index2:\n",
    "                coocurrence_matrix[index1,index2] +=1"
   ]
  },
  {
   "cell_type": "code",
   "execution_count": 14,
   "metadata": {},
   "outputs": [],
   "source": [
    "# Fill the matrix\n",
    "for sentence in sentences:\n",
    "    process_sentence(sentence, 5)"
   ]
  },
  {
   "cell_type": "code",
   "execution_count": 15,
   "metadata": {},
   "outputs": [
    {
     "data": {
      "text/html": [
       "<div>\n",
       "<style scoped>\n",
       "    .dataframe tbody tr th:only-of-type {\n",
       "        vertical-align: middle;\n",
       "    }\n",
       "\n",
       "    .dataframe tbody tr th {\n",
       "        vertical-align: top;\n",
       "    }\n",
       "\n",
       "    .dataframe thead th {\n",
       "        text-align: right;\n",
       "    }\n",
       "</style>\n",
       "<table border=\"1\" class=\"dataframe\">\n",
       "  <thead>\n",
       "    <tr style=\"text-align: right;\">\n",
       "      <th></th>\n",
       "      <th>realisation</th>\n",
       "      <th>occurring</th>\n",
       "      <th>protracted</th>\n",
       "      <th>hyped</th>\n",
       "      <th>dull</th>\n",
       "      <th>lusty</th>\n",
       "      <th>timbre</th>\n",
       "      <th>awkward</th>\n",
       "      <th>escaping</th>\n",
       "      <th>worry</th>\n",
       "      <th>...</th>\n",
       "      <th>reminiscent</th>\n",
       "      <th>companionship</th>\n",
       "      <th>watched</th>\n",
       "      <th>distributors</th>\n",
       "      <th>united</th>\n",
       "      <th>admitted</th>\n",
       "      <th>qualify</th>\n",
       "      <th>heck</th>\n",
       "      <th>ramrodder</th>\n",
       "      <th>discovered</th>\n",
       "    </tr>\n",
       "  </thead>\n",
       "  <tbody>\n",
       "    <tr>\n",
       "      <th>realisation</th>\n",
       "      <td>0.0</td>\n",
       "      <td>0.0</td>\n",
       "      <td>0.0</td>\n",
       "      <td>0.0</td>\n",
       "      <td>0.0</td>\n",
       "      <td>0.0</td>\n",
       "      <td>0.0</td>\n",
       "      <td>0.0</td>\n",
       "      <td>0.0</td>\n",
       "      <td>0.0</td>\n",
       "      <td>...</td>\n",
       "      <td>0.0</td>\n",
       "      <td>0.0</td>\n",
       "      <td>0.0</td>\n",
       "      <td>0.0</td>\n",
       "      <td>0.0</td>\n",
       "      <td>0.0</td>\n",
       "      <td>0.0</td>\n",
       "      <td>0.0</td>\n",
       "      <td>0.0</td>\n",
       "      <td>0.0</td>\n",
       "    </tr>\n",
       "    <tr>\n",
       "      <th>occurring</th>\n",
       "      <td>0.0</td>\n",
       "      <td>0.0</td>\n",
       "      <td>0.0</td>\n",
       "      <td>0.0</td>\n",
       "      <td>0.0</td>\n",
       "      <td>0.0</td>\n",
       "      <td>0.0</td>\n",
       "      <td>0.0</td>\n",
       "      <td>0.0</td>\n",
       "      <td>0.0</td>\n",
       "      <td>...</td>\n",
       "      <td>0.0</td>\n",
       "      <td>0.0</td>\n",
       "      <td>0.0</td>\n",
       "      <td>0.0</td>\n",
       "      <td>0.0</td>\n",
       "      <td>0.0</td>\n",
       "      <td>0.0</td>\n",
       "      <td>0.0</td>\n",
       "      <td>0.0</td>\n",
       "      <td>0.0</td>\n",
       "    </tr>\n",
       "    <tr>\n",
       "      <th>protracted</th>\n",
       "      <td>0.0</td>\n",
       "      <td>0.0</td>\n",
       "      <td>0.0</td>\n",
       "      <td>0.0</td>\n",
       "      <td>0.0</td>\n",
       "      <td>0.0</td>\n",
       "      <td>0.0</td>\n",
       "      <td>0.0</td>\n",
       "      <td>0.0</td>\n",
       "      <td>0.0</td>\n",
       "      <td>...</td>\n",
       "      <td>0.0</td>\n",
       "      <td>0.0</td>\n",
       "      <td>0.0</td>\n",
       "      <td>0.0</td>\n",
       "      <td>0.0</td>\n",
       "      <td>0.0</td>\n",
       "      <td>0.0</td>\n",
       "      <td>0.0</td>\n",
       "      <td>0.0</td>\n",
       "      <td>0.0</td>\n",
       "    </tr>\n",
       "    <tr>\n",
       "      <th>hyped</th>\n",
       "      <td>0.0</td>\n",
       "      <td>0.0</td>\n",
       "      <td>0.0</td>\n",
       "      <td>0.0</td>\n",
       "      <td>0.0</td>\n",
       "      <td>0.0</td>\n",
       "      <td>0.0</td>\n",
       "      <td>0.0</td>\n",
       "      <td>0.0</td>\n",
       "      <td>0.0</td>\n",
       "      <td>...</td>\n",
       "      <td>0.0</td>\n",
       "      <td>0.0</td>\n",
       "      <td>0.0</td>\n",
       "      <td>0.0</td>\n",
       "      <td>0.0</td>\n",
       "      <td>0.0</td>\n",
       "      <td>0.0</td>\n",
       "      <td>0.0</td>\n",
       "      <td>0.0</td>\n",
       "      <td>0.0</td>\n",
       "    </tr>\n",
       "    <tr>\n",
       "      <th>dull</th>\n",
       "      <td>0.0</td>\n",
       "      <td>0.0</td>\n",
       "      <td>0.0</td>\n",
       "      <td>0.0</td>\n",
       "      <td>0.0</td>\n",
       "      <td>0.0</td>\n",
       "      <td>0.0</td>\n",
       "      <td>0.0</td>\n",
       "      <td>0.0</td>\n",
       "      <td>0.0</td>\n",
       "      <td>...</td>\n",
       "      <td>0.0</td>\n",
       "      <td>0.0</td>\n",
       "      <td>0.0</td>\n",
       "      <td>0.0</td>\n",
       "      <td>0.0</td>\n",
       "      <td>0.0</td>\n",
       "      <td>0.0</td>\n",
       "      <td>0.0</td>\n",
       "      <td>0.0</td>\n",
       "      <td>0.0</td>\n",
       "    </tr>\n",
       "    <tr>\n",
       "      <th>...</th>\n",
       "      <td>...</td>\n",
       "      <td>...</td>\n",
       "      <td>...</td>\n",
       "      <td>...</td>\n",
       "      <td>...</td>\n",
       "      <td>...</td>\n",
       "      <td>...</td>\n",
       "      <td>...</td>\n",
       "      <td>...</td>\n",
       "      <td>...</td>\n",
       "      <td>...</td>\n",
       "      <td>...</td>\n",
       "      <td>...</td>\n",
       "      <td>...</td>\n",
       "      <td>...</td>\n",
       "      <td>...</td>\n",
       "      <td>...</td>\n",
       "      <td>...</td>\n",
       "      <td>...</td>\n",
       "      <td>...</td>\n",
       "      <td>...</td>\n",
       "    </tr>\n",
       "    <tr>\n",
       "      <th>admitted</th>\n",
       "      <td>0.0</td>\n",
       "      <td>0.0</td>\n",
       "      <td>0.0</td>\n",
       "      <td>0.0</td>\n",
       "      <td>0.0</td>\n",
       "      <td>0.0</td>\n",
       "      <td>0.0</td>\n",
       "      <td>0.0</td>\n",
       "      <td>0.0</td>\n",
       "      <td>0.0</td>\n",
       "      <td>...</td>\n",
       "      <td>0.0</td>\n",
       "      <td>0.0</td>\n",
       "      <td>0.0</td>\n",
       "      <td>0.0</td>\n",
       "      <td>0.0</td>\n",
       "      <td>0.0</td>\n",
       "      <td>0.0</td>\n",
       "      <td>0.0</td>\n",
       "      <td>0.0</td>\n",
       "      <td>0.0</td>\n",
       "    </tr>\n",
       "    <tr>\n",
       "      <th>qualify</th>\n",
       "      <td>0.0</td>\n",
       "      <td>0.0</td>\n",
       "      <td>0.0</td>\n",
       "      <td>0.0</td>\n",
       "      <td>0.0</td>\n",
       "      <td>0.0</td>\n",
       "      <td>0.0</td>\n",
       "      <td>0.0</td>\n",
       "      <td>0.0</td>\n",
       "      <td>0.0</td>\n",
       "      <td>...</td>\n",
       "      <td>0.0</td>\n",
       "      <td>0.0</td>\n",
       "      <td>0.0</td>\n",
       "      <td>0.0</td>\n",
       "      <td>0.0</td>\n",
       "      <td>0.0</td>\n",
       "      <td>0.0</td>\n",
       "      <td>0.0</td>\n",
       "      <td>0.0</td>\n",
       "      <td>0.0</td>\n",
       "    </tr>\n",
       "    <tr>\n",
       "      <th>heck</th>\n",
       "      <td>0.0</td>\n",
       "      <td>0.0</td>\n",
       "      <td>0.0</td>\n",
       "      <td>0.0</td>\n",
       "      <td>0.0</td>\n",
       "      <td>0.0</td>\n",
       "      <td>0.0</td>\n",
       "      <td>0.0</td>\n",
       "      <td>0.0</td>\n",
       "      <td>0.0</td>\n",
       "      <td>...</td>\n",
       "      <td>0.0</td>\n",
       "      <td>0.0</td>\n",
       "      <td>0.0</td>\n",
       "      <td>0.0</td>\n",
       "      <td>0.0</td>\n",
       "      <td>0.0</td>\n",
       "      <td>0.0</td>\n",
       "      <td>0.0</td>\n",
       "      <td>0.0</td>\n",
       "      <td>0.0</td>\n",
       "    </tr>\n",
       "    <tr>\n",
       "      <th>ramrodder</th>\n",
       "      <td>0.0</td>\n",
       "      <td>0.0</td>\n",
       "      <td>0.0</td>\n",
       "      <td>0.0</td>\n",
       "      <td>0.0</td>\n",
       "      <td>0.0</td>\n",
       "      <td>0.0</td>\n",
       "      <td>0.0</td>\n",
       "      <td>0.0</td>\n",
       "      <td>0.0</td>\n",
       "      <td>...</td>\n",
       "      <td>0.0</td>\n",
       "      <td>0.0</td>\n",
       "      <td>0.0</td>\n",
       "      <td>0.0</td>\n",
       "      <td>0.0</td>\n",
       "      <td>0.0</td>\n",
       "      <td>0.0</td>\n",
       "      <td>0.0</td>\n",
       "      <td>0.0</td>\n",
       "      <td>0.0</td>\n",
       "    </tr>\n",
       "    <tr>\n",
       "      <th>discovered</th>\n",
       "      <td>0.0</td>\n",
       "      <td>0.0</td>\n",
       "      <td>0.0</td>\n",
       "      <td>0.0</td>\n",
       "      <td>0.0</td>\n",
       "      <td>0.0</td>\n",
       "      <td>0.0</td>\n",
       "      <td>0.0</td>\n",
       "      <td>0.0</td>\n",
       "      <td>0.0</td>\n",
       "      <td>...</td>\n",
       "      <td>0.0</td>\n",
       "      <td>0.0</td>\n",
       "      <td>0.0</td>\n",
       "      <td>0.0</td>\n",
       "      <td>0.0</td>\n",
       "      <td>0.0</td>\n",
       "      <td>0.0</td>\n",
       "      <td>0.0</td>\n",
       "      <td>0.0</td>\n",
       "      <td>0.0</td>\n",
       "    </tr>\n",
       "  </tbody>\n",
       "</table>\n",
       "<p>7004 rows × 7004 columns</p>\n",
       "</div>"
      ],
      "text/plain": [
       "             realisation  occurring  protracted  hyped  dull  lusty  timbre  \\\n",
       "realisation          0.0        0.0         0.0    0.0   0.0    0.0     0.0   \n",
       "occurring            0.0        0.0         0.0    0.0   0.0    0.0     0.0   \n",
       "protracted           0.0        0.0         0.0    0.0   0.0    0.0     0.0   \n",
       "hyped                0.0        0.0         0.0    0.0   0.0    0.0     0.0   \n",
       "dull                 0.0        0.0         0.0    0.0   0.0    0.0     0.0   \n",
       "...                  ...        ...         ...    ...   ...    ...     ...   \n",
       "admitted             0.0        0.0         0.0    0.0   0.0    0.0     0.0   \n",
       "qualify              0.0        0.0         0.0    0.0   0.0    0.0     0.0   \n",
       "heck                 0.0        0.0         0.0    0.0   0.0    0.0     0.0   \n",
       "ramrodder            0.0        0.0         0.0    0.0   0.0    0.0     0.0   \n",
       "discovered           0.0        0.0         0.0    0.0   0.0    0.0     0.0   \n",
       "\n",
       "             awkward  escaping  worry  ...  reminiscent  companionship  \\\n",
       "realisation      0.0       0.0    0.0  ...          0.0            0.0   \n",
       "occurring        0.0       0.0    0.0  ...          0.0            0.0   \n",
       "protracted       0.0       0.0    0.0  ...          0.0            0.0   \n",
       "hyped            0.0       0.0    0.0  ...          0.0            0.0   \n",
       "dull             0.0       0.0    0.0  ...          0.0            0.0   \n",
       "...              ...       ...    ...  ...          ...            ...   \n",
       "admitted         0.0       0.0    0.0  ...          0.0            0.0   \n",
       "qualify          0.0       0.0    0.0  ...          0.0            0.0   \n",
       "heck             0.0       0.0    0.0  ...          0.0            0.0   \n",
       "ramrodder        0.0       0.0    0.0  ...          0.0            0.0   \n",
       "discovered       0.0       0.0    0.0  ...          0.0            0.0   \n",
       "\n",
       "             watched  distributors  united  admitted  qualify  heck  \\\n",
       "realisation      0.0           0.0     0.0       0.0      0.0   0.0   \n",
       "occurring        0.0           0.0     0.0       0.0      0.0   0.0   \n",
       "protracted       0.0           0.0     0.0       0.0      0.0   0.0   \n",
       "hyped            0.0           0.0     0.0       0.0      0.0   0.0   \n",
       "dull             0.0           0.0     0.0       0.0      0.0   0.0   \n",
       "...              ...           ...     ...       ...      ...   ...   \n",
       "admitted         0.0           0.0     0.0       0.0      0.0   0.0   \n",
       "qualify          0.0           0.0     0.0       0.0      0.0   0.0   \n",
       "heck             0.0           0.0     0.0       0.0      0.0   0.0   \n",
       "ramrodder        0.0           0.0     0.0       0.0      0.0   0.0   \n",
       "discovered       0.0           0.0     0.0       0.0      0.0   0.0   \n",
       "\n",
       "             ramrodder  discovered  \n",
       "realisation        0.0         0.0  \n",
       "occurring          0.0         0.0  \n",
       "protracted         0.0         0.0  \n",
       "hyped              0.0         0.0  \n",
       "dull               0.0         0.0  \n",
       "...                ...         ...  \n",
       "admitted           0.0         0.0  \n",
       "qualify            0.0         0.0  \n",
       "heck               0.0         0.0  \n",
       "ramrodder          0.0         0.0  \n",
       "discovered         0.0         0.0  \n",
       "\n",
       "[7004 rows x 7004 columns]"
      ]
     },
     "execution_count": 15,
     "metadata": {},
     "output_type": "execute_result"
    }
   ],
   "source": [
    "# Show in dataframe\n",
    "dataframe_cooc = pd.DataFrame(coocurrence_matrix)\n",
    "dataframe_cooc.columns = word_list\n",
    "dataframe_cooc.index = word_list\n",
    "dataframe_cooc"
   ]
  },
  {
   "cell_type": "markdown",
   "metadata": {},
   "source": [
    "**Create the SVD**"
   ]
  },
  {
   "cell_type": "code",
   "execution_count": 16,
   "metadata": {},
   "outputs": [],
   "source": [
    "la = np.linalg\n",
    "U, S, V = la.svd(coocurrence_matrix, full_matrices=False)"
   ]
  },
  {
   "cell_type": "code",
   "execution_count": 17,
   "metadata": {},
   "outputs": [
    {
     "data": {
      "image/png": "[encoded data removed]",
      "text/plain": [
       "<Figure size 640x480 with 1 Axes>"
      ]
     },
     "metadata": {},
     "output_type": "display_data"
    }
   ],
   "source": [
    "# Plot SVD\n",
    "plt.ylim(-1,1)\n",
    "plt.xlim(-1,1)\n",
    "\n",
    "for i in iter(range(len(word_list))):\n",
    "    plt.text(U[i,0],U[i,1],word_list[i])\n",
    "plt.show()"
   ]
  },
  {
   "cell_type": "code",
   "execution_count": 18,
   "metadata": {},
   "outputs": [
    {
     "data": {
      "image/png": "[encoded data removed]",
      "text/plain": [
       "<Figure size 1000x500 with 1 Axes>"
      ]
     },
     "metadata": {},
     "output_type": "display_data"
    }
   ],
   "source": [
    "# Look at the first 100 eigenvalues\n",
    "plt.figure(figsize = (10,5))\n",
    "plt.plot(S[:100])\n",
    "plt.show()"
   ]
  },
  {
   "cell_type": "code",
   "execution_count": 19,
   "metadata": {},
   "outputs": [
    {
     "data": {
      "text/plain": [
       "(7004, 7004)"
      ]
     },
     "execution_count": 19,
     "metadata": {},
     "output_type": "execute_result"
    }
   ],
   "source": [
    "U.shape"
   ]
  },
  {
   "cell_type": "code",
   "execution_count": 20,
   "metadata": {},
   "outputs": [
    {
     "data": {
      "text/plain": [
       "(7004, 100)"
      ]
     },
     "execution_count": 20,
     "metadata": {},
     "output_type": "execute_result"
    }
   ],
   "source": [
    "emb = U[:,:100]\n",
    "emb.shape"
   ]
  },
  {
   "cell_type": "code",
   "execution_count": 21,
   "metadata": {},
   "outputs": [
    {
     "name": "stdout",
     "output_type": "stream",
     "text": [
      "[[-7.29087311e-04 -1.34912784e-03  7.00208260e-05 ... -3.90930221e-03\n",
      "  -1.23227172e-03  1.81423218e-04]\n",
      " [-2.06613923e-03 -1.78232846e-03  9.74099237e-03 ... -1.90483716e-03\n",
      "   4.55206577e-03 -1.37361751e-03]\n",
      " [-7.83500227e-04 -8.45390690e-04 -2.15944717e-04 ...  2.87103015e-04\n",
      "   5.72561481e-03 -8.32381346e-03]\n",
      " ...\n",
      " [-2.29200386e-03 -2.79954765e-03 -2.80861333e-03 ... -1.51152871e-02\n",
      "   3.70359255e-03 -9.32318433e-04]\n",
      " [-1.44090511e-03 -1.96560704e-03 -1.23781110e-03 ... -1.18439607e-04\n",
      "   1.43134444e-02 -3.39172647e-03]\n",
      " [-1.05998650e-03 -1.89389324e-03  2.58465266e-05 ...  7.12874473e-03\n",
      "   1.11607134e-03  1.00901423e-02]]\n"
     ]
    }
   ],
   "source": [
    "print(emb)"
   ]
  },
  {
   "cell_type": "markdown",
   "metadata": {},
   "source": [
    "**SVD function**"
   ]
  },
  {
   "cell_type": "code",
   "execution_count": 22,
   "metadata": {},
   "outputs": [],
   "source": [
    "def get_distance(word_1, word_2):\n",
    "    return distance_calc(emb[word_list.index(word_1)], emb[word_list.index(word_2)])\n",
    "\n",
    "def get_similarity(word_1, word_2):\n",
    "    return cosine_similarity(emb[word_list.index(word_1),:].reshape(1,-1), emb[word_list.index(word_2),:].reshape(1,-1))[0][0]"
   ]
  },
  {
   "cell_type": "code",
   "execution_count": 23,
   "metadata": {},
   "outputs": [],
   "source": [
    "def get_top_relevant_word_via_similarity(word_to_check, top_n=10):\n",
    "    sorted_list = sorted(word_list,reverse=True, key=lambda word:get_similarity(word_to_check, word))\n",
    "    sorted_pair = []\n",
    "    for word in sorted_list[:top_n]:\n",
    "        sorted_pair.append((word,get_similarity(word_to_check, word)))\n",
    "    return sorted_pair"
   ]
  },
  {
   "cell_type": "code",
   "execution_count": 24,
   "metadata": {},
   "outputs": [],
   "source": [
    "def get_top_relevant_word_via_distance(word_to_check, top_n=10):\n",
    "    sorted_list = sorted(word_list, key=lambda word:get_distance(word_to_check, word))\n",
    "    sorted_pair = []\n",
    "    for word in sorted_list[:top_n]:\n",
    "        sorted_pair.append((word,get_distance(word_to_check, word)))\n",
    "    return sorted_pair"
   ]
  },
  {
   "cell_type": "markdown",
   "metadata": {},
   "source": [
    "**Word2Vec**"
   ]
  },
  {
   "cell_type": "code",
   "execution_count": 25,
   "metadata": {},
   "outputs": [
    {
     "name": "stdout",
     "output_type": "stream",
     "text": [
      "Training model....\n",
      "model saved\n"
     ]
    }
   ],
   "source": [
    "# Creating the model and setting values for the various parameters\n",
    "num_features = 100  # Word vector dimensionality\n",
    "min_word_count = 3 # Minimum word count\n",
    "num_workers = 4     # Number of parallel threads\n",
    "context = 5        # Context window size\n",
    "downsampling = 1e-3 # (0.001) Downsample setting for frequent words\n",
    "\n",
    "# Initializing the train model\n",
    "print(\"Training model....\")\n",
    "model = word2vec.Word2Vec(sentences,workers=num_workers,vector_size=num_features,min_count=min_word_count,window=context, sample=downsampling)\n",
    "\n",
    "# Saving the model for later use. Can be loaded using Word2Vec.load()\n",
    "model_name = \"word2vec_model_100size_3mincount_5window\"\n",
    "model.save(model_name)\n",
    "print(\"model saved\")"
   ]
  },
  {
   "cell_type": "code",
   "execution_count": 26,
   "metadata": {},
   "outputs": [],
   "source": [
    "model = word2vec.Word2Vec.load(\"word2vec_model_100size_3mincount_5window\")"
   ]
  },
  {
   "cell_type": "markdown",
   "metadata": {},
   "source": [
    "**Comparison**"
   ]
  },
  {
   "cell_type": "code",
   "execution_count": 27,
   "metadata": {},
   "outputs": [
    {
     "name": "stdout",
     "output_type": "stream",
     "text": [
      "Word2Vec result\n"
     ]
    },
    {
     "data": {
      "text/plain": [
       "[('film', 0.9883880615234375),\n",
       " ('one', 0.9877600073814392),\n",
       " ('like', 0.984801709651947),\n",
       " ('much', 0.9818921089172363),\n",
       " ('get', 0.9812399744987488),\n",
       " ('good', 0.9812301993370056),\n",
       " ('would', 0.9803956747055054),\n",
       " ('story', 0.9799787998199463),\n",
       " ('great', 0.9798790812492371),\n",
       " ('people', 0.9798113703727722)]"
      ]
     },
     "execution_count": 27,
     "metadata": {},
     "output_type": "execute_result"
    }
   ],
   "source": [
    "print(\"Word2Vec result\")\n",
    "model.wv.most_similar(\"movie\")"
   ]
  },
  {
   "cell_type": "code",
   "execution_count": 28,
   "metadata": {},
   "outputs": [
    {
     "name": "stdout",
     "output_type": "stream",
     "text": [
      "SVD result via similarity\n"
     ]
    },
    {
     "data": {
      "text/plain": [
       "[('movie', 0.9999999999999997),\n",
       " ('pounds', 0.20254861386707435),\n",
       " ('viles', 0.15259483759685644),\n",
       " ('matched', 0.14509388637772924),\n",
       " ('strike', 0.1376961719338061),\n",
       " ('splendor', 0.13039616119340322),\n",
       " ('russia', 0.13032776316380054),\n",
       " ('holocaust', 0.12640770232893644),\n",
       " ('preventing', 0.12640770232893642),\n",
       " ('nuclear', 0.1264077023289364)]"
      ]
     },
     "execution_count": 28,
     "metadata": {},
     "output_type": "execute_result"
    }
   ],
   "source": [
    "print(\"SVD result via similarity\")\n",
    "get_top_relevant_word_via_similarity(\"movie\")\n",
    "#The first one will be the word itself "
   ]
  },
  {
   "cell_type": "code",
   "execution_count": 29,
   "metadata": {},
   "outputs": [
    {
     "data": {
      "text/plain": [
       "0.98838806"
      ]
     },
     "execution_count": 29,
     "metadata": {},
     "output_type": "execute_result"
    }
   ],
   "source": [
    "# Word2Vec similarity\n",
    "model.wv.similarity('movie', 'film')"
   ]
  },
  {
   "cell_type": "code",
   "execution_count": 30,
   "metadata": {},
   "outputs": [
    {
     "data": {
      "text/plain": [
       "-0.00015416899115152163"
      ]
     },
     "execution_count": 30,
     "metadata": {},
     "output_type": "execute_result"
    }
   ],
   "source": [
    "# SVD similarity\n",
    "get_similarity('movie', 'film')"
   ]
  },
  {
   "cell_type": "markdown",
   "metadata": {},
   "source": [
    "**Discussion**\n",
    "\n",
    "We can say that Word2Vec performs better compared to SVD\n",
    "\n",
    "Additional: The result difference between cosine similarity and cosine distance is probably caused by the magnitude of matrix multiplication that cause floating point error.But regardless, they perform poorly compared to Word2Vec"
   ]
  }
 ],
 "metadata": {
  "kernelspec": {
   "display_name": "Python 3 (ipykernel)",
   "language": "python",
   "name": "python3"
  },
  "language_info": {
   "codemirror_mode": {
    "name": "ipython",
    "version": 3
   },
   "file_extension": ".py",
   "mimetype": "text/x-python",
   "name": "python",
   "nbconvert_exporter": "python",
   "pygments_lexer": "ipython3",
   "version": "3.9.16"
  }
 },
 "nbformat": 4,
 "nbformat_minor": 2
}
